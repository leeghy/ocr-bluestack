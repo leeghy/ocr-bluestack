{
 "cells": [
  {
   "cell_type": "code",
   "execution_count": 2,
   "metadata": {},
   "outputs": [
    {
     "name": "stdout",
     "output_type": "stream",
     "text": [
      "704 908 177 60\n",
      "추출된 텍스트:\n",
      "1.48 Wh\n",
      "\n"
     ]
    }
   ],
   "source": [
    "import cv2\n",
    "from PIL import Image\n",
    "import pytesseract\n",
    "\n",
    "def select_roi(image):\n",
    "    # 원본 이미지의 크기 가져오기\n",
    "    height, width = image.shape[:2]\n",
    "    \n",
    "    # 목표 크기 설정 (예: 1280x720)\n",
    "    target_width = 1280\n",
    "    target_height = 720\n",
    "    \n",
    "    # 이미지가 목표 크기보다 큰 경우 크기 조절\n",
    "    if width > target_width or height > target_height:\n",
    "        # 비율 유지하면서 크기 조절\n",
    "        scale = min(target_width / width, target_height / height)\n",
    "        new_width = int(width * scale)\n",
    "        new_height = int(height * scale)\n",
    "        \n",
    "        # 이미지 리사이즈\n",
    "        display_image = cv2.resize(image, (new_width, new_height))\n",
    "    else:\n",
    "        display_image = image.copy()\n",
    "        scale = 1.0\n",
    "\n",
    "    # ROI 선택\n",
    "    roi = cv2.selectROI(\"Select ROI\", display_image, showCrosshair=True)\n",
    "    cv2.destroyWindow(\"Select ROI\")\n",
    "    \n",
    "    # 원본 이미지에 대한 ROI 좌표로 변환\n",
    "    if scale != 1.0:\n",
    "        roi = tuple(int(x / scale) for x in roi)\n",
    "    \n",
    "    return roi\n",
    "\n",
    "# 이미지 읽기\n",
    "image_path = 'screen.png'\n",
    "img = cv2.imread(image_path)\n",
    "\n",
    "# ROI 선택\n",
    "roi = select_roi(img)  # (x, y, w, h)\n",
    "x, y, w, h = roi\n",
    "\n",
    "print(x, y, w, h)\n",
    "\n",
    "# 선택한 영역 잘라내기\n",
    "selected_region = img[y:y+h, x:x+w]\n",
    "\n",
    "# 그레이스케일 변환\n",
    "gray = cv2.cvtColor(selected_region, cv2.COLOR_BGR2GRAY)\n",
    "\n",
    "# OCR 수행\n",
    "pil_image = Image.fromarray(gray)\n",
    "text = pytesseract.image_to_string(pil_image, lang='kor+eng')\n",
    "\n",
    "print(\"추출된 텍스트:\")\n",
    "print(text)"
   ]
  }
 ],
 "metadata": {
  "kernelspec": {
   "display_name": "gg",
   "language": "python",
   "name": "python3"
  },
  "language_info": {
   "codemirror_mode": {
    "name": "ipython",
    "version": 3
   },
   "file_extension": ".py",
   "mimetype": "text/x-python",
   "name": "python",
   "nbconvert_exporter": "python",
   "pygments_lexer": "ipython3",
   "version": "3.10.16"
  }
 },
 "nbformat": 4,
 "nbformat_minor": 2
}
