{
 "cells": [
  {
   "cell_type": "code",
   "execution_count": 9,
   "metadata": {},
   "outputs": [],
   "source": [
    "import pytesseract\n",
    "import cv2\n",
    "from PIL import Image\n",
    "import os\n",
    "import subprocess\n",
    "import time\n",
    "import csv\n",
    "from datetime import datetime\n",
    "import re"
   ]
  },
  {
   "cell_type": "code",
   "execution_count": 10,
   "metadata": {},
   "outputs": [],
   "source": [
    "# def select_roi(image):\n",
    "#     roi = cv2.selectROI(\"Select ROI\", image, showCrosshair=True)\n",
    "#     cv2.destroyWindow(\"Select ROI\")\n",
    "#     return roi"
   ]
  },
  {
   "cell_type": "code",
   "execution_count": 11,
   "metadata": {},
   "outputs": [],
   "source": [
    "def select_roi(image):\n",
    "    # 원본 이미지의 크기 가져오기\n",
    "    height, width = image.shape[:2]\n",
    "    \n",
    "    # 목표 크기 설정 (예: 1280x720)\n",
    "    target_width = 1280\n",
    "    target_height = 720\n",
    "    \n",
    "    # 이미지가 목표 크기보다 큰 경우 크기 조절\n",
    "    if width > target_width or height > target_height:\n",
    "        # 비율 유지하면서 크기 조절\n",
    "        scale = min(target_width / width, target_height / height)\n",
    "        new_width = int(width * scale)\n",
    "        new_height = int(height * scale)\n",
    "        \n",
    "        # 이미지 리사이즈\n",
    "        display_image = cv2.resize(image, (new_width, new_height))\n",
    "    else:\n",
    "        display_image = image.copy()\n",
    "        scale = 1.0\n",
    "\n",
    "    # ROI 선택\n",
    "    roi = cv2.selectROI(\"Select ROI\", display_image, showCrosshair=True)\n",
    "    cv2.destroyWindow(\"Select ROI\")\n",
    "    \n",
    "    # 원본 이미지에 대한 ROI 좌표로 변환\n",
    "    if scale != 1.0:\n",
    "        roi = tuple(int(x / scale) for x in roi)\n",
    "    \n",
    "    return roi"
   ]
  },
  {
   "cell_type": "code",
   "execution_count": null,
   "metadata": {},
   "outputs": [],
   "source": [
    "def capture_screenshot(adb_path):\n",
    "    try:\n",
    "        subprocess.run([adb_path, 'exec-out', 'screencap', '-p'], stdout=open('screen.png', 'wb'))\n",
    "        return True\n",
    "    except Exception as e:\n",
    "        print(f\"스크린샷 캡처 에러: {e}\")\n",
    "        return False"
   ]
  },
  {
   "cell_type": "code",
   "execution_count": null,
   "metadata": {},
   "outputs": [],
   "source": [
    "def process_image(image_path, regions):\n",
    "    if not os.path.exists(image_path):\n",
    "        print(\"오류: screen.png 파일이 존재하지 않습니다.\")\n",
    "        return None\n",
    "\n",
    "    img = cv2.imread(image_path)\n",
    "    if img is None:\n",
    "        print(\"오류: 이미지를 로드할 수 없습니다.\")\n",
    "        return None\n",
    "\n",
    "    results = {}\n",
    "    for key, (x, y, w, h) in regions.items():\n",
    "        roi = img[y:y+h, x:x+w]\n",
    "        gray = cv2.cvtColor(roi, cv2.COLOR_BGR2GRAY)\n",
    "        binary = cv2.adaptiveThreshold(\n",
    "            gray, 255, cv2.ADAPTIVE_THRESH_GAUSSIAN_C, cv2.THRESH_BINARY, 11, 2\n",
    "        )\n",
    "        \n",
    "        pil_image = Image.fromarray(gray)\n",
    "        text = pytesseract.image_to_string(pil_image, lang='kor+eng')\n",
    "        \n",
    "        # pil_image = Image.fromarray(binary)\n",
    "        # text = pytesseract.image_to_string(pil_image, lang='kor+eng', config='--psm 6')\n",
    "        results[key] = text.strip()\n",
    "\n",
    "    try:\n",
    "        battery_power = ''\n",
    "        if '내장 배터리용 전원 충전' in results:\n",
    "            tmp = results['내장 배터리용 전원 충전'].replace(',', '')\n",
    "            # 'W'를 제거하고 숫자만 추출\n",
    "            for word in tmp.split():\n",
    "                # 'W'가 포함된 경우 처리\n",
    "                if 'W' in word:\n",
    "                    battery_power = word.replace('W', '')  # 'W' 제거\n",
    "                    break  # 첫 번째로 찾은 값만 사용\n",
    "            if battery_power:  # battery_power가 비어있지 않은 경우\n",
    "                results[\"생산전압\"] = format(float(battery_power) / 5, '.13f')  # 소수점 이하 13자리로 포맷\n",
    "            else:\n",
    "                results[\"생산전압\"] = \"계산 불가\"  # battery_power가 비어있을 경우\n",
    "        else:\n",
    "            results[\"생산전압\"] = \"계산 불가\"  # 키가 없을 경우\n",
    "    except (ValueError, KeyError):\n",
    "        results[\"생산전압\"] = \"계산 불가\"\n",
    "    \n",
    "    return results"
   ]
  },
  {
   "cell_type": "code",
   "execution_count": null,
   "metadata": {},
   "outputs": [],
   "source": []
  }
 ],
 "metadata": {
  "kernelspec": {
   "display_name": "gg",
   "language": "python",
   "name": "python3"
  },
  "language_info": {
   "codemirror_mode": {
    "name": "ipython",
    "version": 3
   },
   "file_extension": ".py",
   "mimetype": "text/x-python",
   "name": "python",
   "nbconvert_exporter": "python",
   "pygments_lexer": "ipython3",
   "version": "3.10.16"
  }
 },
 "nbformat": 4,
 "nbformat_minor": 2
}
