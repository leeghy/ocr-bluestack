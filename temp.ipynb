{
 "cells": [
  {
   "cell_type": "code",
   "execution_count": 23,
   "metadata": {},
   "outputs": [
    {
     "name": "stdout",
     "output_type": "stream",
     "text": [
      "791 1082 68 60\n",
      "추출된 텍스트:\n",
      "45%\n",
      "\n"
     ]
    }
   ],
   "source": [
    "# ADB 전체 경로를 지정 (본인의 ADB 경로로 수정해주세요)\n",
    "adb_path = \"C:\\platform-tools\\\\adb.exe\"\n",
    "\n",
    "try:\n",
    "    subprocess.run([adb_path, 'exec-out', 'screencap', '-p'], stdout=open('screen.png', 'wb'))\n",
    "  \n",
    "except Exception as e:\n",
    "    print(f\"에러 발생: {e}\")"
   ]
  },
  {
   "cell_type": "code",
   "execution_count": null,
   "metadata": {},
   "outputs": [],
   "source": [
    "image_path = \"screen.png\"\n",
    "\n",
    "# 파일 존재 여부 확인\n",
    "if not os.path.exists(image_path):\n",
    "    print(\"오류: screen.png 파일이 존재하지 않습니다.\")\n",
    "else:\n",
    "    # 이미지 로딩\n",
    "    img = cv2.imread(image_path)\n",
    "\n",
    "    if img is None:\n",
    "        print(\"오류: 이미지를 로드할 수 없습니다. 파일 형식을 확인하세요.\")\n",
    "    else:\n",
    "        # regions 딕셔너리 정의\n",
    "        regions = {\n",
    "            \"내장 배터리용 전원 충전\": (44, 640, 62, 31),\n",
    "            \"오늘 발전량\": (728, 915, 131, 46),\n",
    "            \"오늘 평균 배터리 전력\": (791, 1082, 68, 60)\n",
    "        }\n",
    "\n",
    "        # 추가적인 이미지 처리 코드 작성\n",
    "        # 예: 특정 영역을 잘라내기\n",
    "        for region_name, (x, y, w, h) in regions.items():\n",
    "            roi = img[y:y+h, x:x+w]\n",
    "            # roi를 사용하여 추가 작업 수행"
   ]
  },
  {
   "cell_type": "code",
   "execution_count": null,
   "metadata": {},
   "outputs": [],
   "source": [
    "results = {}"
   ]
  },
  {
   "cell_type": "code",
   "execution_count": null,
   "metadata": {},
   "outputs": [],
   "source": [
    "for key, (x, y, w, h) in regions.items():\n",
    "    # 관심 영역 잘라내기\n",
    "    roi = img[y:y+h, x:x+w]\n",
    "    \n",
    "    # 전처리: 그레이스케일 변환\n",
    "    gray = cv2.cvtColor(roi, cv2.COLOR_BGR2GRAY)\n",
    "    \n",
    "    binary = cv2.adaptiveThreshold(\n",
    "    gray, 255, cv2.ADAPTIVE_THRESH_GAUSSIAN_C, cv2.THRESH_BINARY, 11, 2\n",
    "    )\n",
    "\n",
    "    # 전처리: 이진화\n",
    "    # _, binary = cv2.threshold(gray, 150, 255, cv2.THRESH_BINARY)\n",
    "    \n",
    "    # OCR 수행\n",
    "    pil_image = Image.fromarray(binary)\n",
    "    text = pytesseract.image_to_string(pil_image, lang='kor+eng', config='--psm 6')\n",
    "    \n",
    "    # 결과 저장\n",
    "    results[key] = text.strip()"
   ]
  },
  {
   "cell_type": "code",
   "execution_count": null,
   "metadata": {},
   "outputs": [],
   "source": [
    "for key, text in results.items():\n",
    "    print(f\"{key}: {text}\")"
   ]
  }
 ],
 "metadata": {
  "kernelspec": {
   "display_name": "gg",
   "language": "python",
   "name": "python3"
  },
  "language_info": {
   "codemirror_mode": {
    "name": "ipython",
    "version": 3
   },
   "file_extension": ".py",
   "mimetype": "text/x-python",
   "name": "python",
   "nbconvert_exporter": "python",
   "pygments_lexer": "ipython3",
   "version": "3.10.16"
  }
 },
 "nbformat": 4,
 "nbformat_minor": 2
}
